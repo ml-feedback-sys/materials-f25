{
 "cells": [
  {
   "cell_type": "code",
   "execution_count": null,
   "metadata": {
    "id": "Eo8SdglD2PBb"
   },
   "outputs": [],
   "source": [
    "import numpy as np\n",
    "import scipy.linalg\n",
    "import matplotlib.pyplot as plt\n",
    "from matplotlib import patheffects\n"
   ]
  },
  {
   "cell_type": "code",
   "execution_count": null,
   "metadata": {},
   "outputs": [],
   "source": [
    "plt.style.use(['dark_background'])\n",
    "# plt.xkcd()\n",
    "plt.rcParams['path.effects'] = [patheffects.withStroke(linewidth=0)]\n",
    "\n",
    "plt.rcParams['figure.facecolor'] = '#222222'\n"
   ]
  },
  {
   "cell_type": "code",
   "execution_count": null,
   "metadata": {
    "id": "uVUgHX5Smpur"
   },
   "outputs": [],
   "source": [
    "! pip install cvxpy\n",
    "import cvxpy as cvx"
   ]
  },
  {
   "cell_type": "code",
   "execution_count": null,
   "metadata": {
    "id": "XYc24UQIf9VE"
   },
   "outputs": [],
   "source": []
  },
  {
   "cell_type": "code",
   "execution_count": null,
   "metadata": {},
   "outputs": [],
   "source": [
    "def LQR(A,B,Q,R,H=np.inf):\n",
    "    if H == np.inf:\n",
    "        P = scipy.linalg.solve_discrete_are(A, B, Q, R)\n",
    "        pi = -1 * np.linalg.inv(R + B.T @ P @ B) @ B.T @ P @ A\n",
    "    else:\n",
    "        pi = [None] * H\n",
    "        P = [None] * (H+1)\n",
    "        P[H] = Q\n",
    "        for h in range(H-1, -1, -1):\n",
    "            invmat = np.linalg.inv(R + B.T @ P[h+1] @ B)\n",
    "            P[h] = Q + A.T @ P[h+1] @ A - A.T @ P[h+1] @ B @ invmat @ B.T @ P[h+1] @ A\n",
    "            pi[h] = -1 * invmat @ B.T @ P[h+1] @ A\n",
    "    return pi, P"
   ]
  },
  {
   "cell_type": "code",
   "execution_count": null,
   "metadata": {},
   "outputs": [],
   "source": [
    "A = np.array([[1, 0.1], [0,1]])\n",
    "B = np.array([[0],[1]])\n",
    "\n",
    "Q = np.array([[1, 0], [0, 0.5]])\n",
    "R = np.array([[1]])\n",
    "\n",
    "horizon = 30\\mathsf{pos}_t^2 + \\lambda a_t^\n",
    "ulim = 0.5\n",
    "\n",
    "pi, P = LQR(A,B,Q,R,H=horizon)\n",
    "print(pi)\n",
    "print(P)"
   ]
  },
  {
   "cell_type": "code",
   "execution_count": null,
   "metadata": {},
   "outputs": [],
   "source": [
    "pi = np.squeeze(np.array(pi))\n",
    "plt.figure(figsize=(8, 2))\n",
    "plt.plot(pi[:,0], '.', color='white', markersize=10)\n",
    "plt.plot(pi[:,0], alpha=0.8, color='white', linewidth=5, label='position')\n",
    "plt.plot(pi[:,1], '.', color='orange', markersize=10)\n",
    "plt.plot(pi[:,1], alpha=0.8, color='orange', linewidth=5, label='velocity')\n",
    "plt.legend()\n",
    "plt.xlabel('t')\n",
    "plt.ylabel('gain')\n",
    "plt.savefig('gains.png')"
   ]
  },
  {
   "cell_type": "code",
   "execution_count": null,
   "metadata": {},
   "outputs": [],
   "source": []
  },
  {
   "cell_type": "code",
   "execution_count": null,
   "metadata": {},
   "outputs": [],
   "source": []
  },
  {
   "cell_type": "code",
   "execution_count": null,
   "metadata": {
    "id": "TO1e_1CTf01u"
   },
   "outputs": [],
   "source": [
    "def optimization_controller(x_curr, H=horizon, terminal=False):\n",
    "    xs = cvx.Variable((H, A.shape[0]))\n",
    "    us = cvx.Variable((H, B.shape[1]))\n",
    "    cost = 0\n",
    "    for k in range(H):\n",
    "        cost += cvx.quad_form(xs[k], Q) + cvx.quad_form(us[k], R)\n",
    "    constr = []\n",
    "    for k in range(H-1):\n",
    "        constr += [xs[k+1] == A @ xs[k] + B @ us[k]]\n",
    "    constr += [xs[0] == x_curr]\n",
    "    for k in range(H):\n",
    "        constr += [xs[k,0] <= 1, xs[k,0] >= -1]\n",
    "        constr += [us[k] <= ulim, us[k] >= -1*ulim]\n",
    "    if terminal: constr += [xs[-1] == np.array([0,0])]\n",
    "    problem = cvx.Problem(cvx.Minimize(cost), constr)\n",
    "    problem.solve()\n",
    "    if problem.status not in [\"infeasible\", \"unbounded\"]:\n",
    "        return us[0].value\n",
    "    else:\n",
    "        return np.nan\n",
    "\n",
    "def test_feasible(xs, controller):\n",
    "    init_feasible = []\n",
    "    always_feasible = []\n",
    "    for x in xs:\n",
    "        res = controller(x)\n",
    "        if np.isnan(res):\n",
    "            init_feasible.append(False)\n",
    "            always_feasible.append(False)\n",
    "        else:\n",
    "            init_feasible.append(True)\n",
    "            xtest = x\n",
    "            while not np.isnan(res) and np.linalg.norm(xtest) >= 0.5:\n",
    "                xtest = A @ xtest + B @ res\n",
    "                res = controller(xtest)\n",
    "            always_feasible.append(not np.isnan(res))\n",
    "    return init_feasible, always_feasible\n"
   ]
  },
  {
   "cell_type": "code",
   "execution_count": null,
   "metadata": {},
   "outputs": [],
   "source": [
    "Q = np.array([[1, 0], [0, 0.5]])\n",
    "R = np.array([[1]])\n",
    "\n",
    "P = scipy.linalg.solve_discrete_are(A, B, Q, R)\n",
    "K = -np.linalg.inv(R + B.T @ P @ B) @ B.T @ Q @ P @ A\n",
    "\n",
    "horizon = 10\n",
    "ulim = 0.5"
   ]
  },
  {
   "cell_type": "code",
   "execution_count": null,
   "metadata": {
    "colab": {
     "base_uri": "https://localhost:8080/"
    },
    "id": "ny2GUSMbh9lO",
    "outputId": "a1e448b2-ebae-4622-834d-8f509ac24a57"
   },
   "outputs": [],
   "source": [
    "x0 = np.array([.5, 2])\n",
    "\n",
    "\n",
    "xs = {'lqr-clip':[x0], 'lqr':[x0]}\n",
    "us = {'lqr-clip':[], 'lqr':[]}\n",
    "horizons = [10, 2]\n",
    "for H in horizons:\n",
    "    xs['mpc-{}'.format(H)] = [x0]\n",
    "    us['mpc-{}'.format(H)] = []\n",
    "for _ in range(30):\n",
    "    us['lqr-clip'].append(np.clip(K @ xs['lqr-clip'][-1], -1*ulim, ulim))\n",
    "    xs['lqr-clip'].append(A @ xs['lqr-clip'][-1] + B @ us['lqr-clip'][-1])\n",
    "    us['lqr'].append(K @ xs['lqr'][-1])\n",
    "    xs['lqr'].append(A @ xs['lqr'][-1] + B @ us['lqr'][-1])\n",
    "    for H in horizons:\n",
    "        us['mpc-{}'.format(H)].append(np.nan_to_num(optimization_controller(xs['mpc-{}'.format(H)][-1], H=H)).reshape(1))\n",
    "        xs['mpc-{}'.format(H)].append(A @ xs['mpc-{}'.format(H)][-1] + B @ us['mpc-{}'.format(H)][-1])\n",
    "\n",
    "\n",
    "for key in xs.keys():\n",
    "    xs[key] = np.array(xs[key])\n",
    "    us[key] = np.array(us[key])\n"
   ]
  },
  {
   "cell_type": "code",
   "execution_count": null,
   "metadata": {
    "colab": {
     "base_uri": "https://localhost:8080/",
     "height": 1000
    },
    "id": "VXV9ctx6jC7F",
    "outputId": "b4712d35-714e-4e89-ea6d-eff8b6dbd5b4"
   },
   "outputs": [],
   "source": [
    "c='white'\n",
    "\n",
    "def make_plots(keylist):\n",
    "    plt.figure()\n",
    "    # c='black'\n",
    "    # for xs, c in zip(xs_list, colors):\n",
    "    for key in keylist:\n",
    "        plt.plot(xs[key][:,0], xs[key][:,1], alpha=0.75, linewidth=2, label=key)\n",
    "        plt.plot(xs[key][:,0], xs[key][:,1], '.', color=plt.gca().lines[-1].get_color(), markersize=10)\n",
    "    # plt.grid(color=c)\n",
    "    plt.grid(color=c, linestyle='-.', linewidth=0.7)\n",
    "    plt.ylabel('omega')\n",
    "    plt.xlabel('theta')\n",
    "    plt.legend()\n",
    "    # plt.axis('equal');\n",
    "    plt.xlim([-1, 2])\n",
    "    plt.ylim([-0.9, 2.25])\n",
    "\n",
    "    plt.figure(figsize=[6, 2])\n",
    "    for key in keylist:\n",
    "        plt.plot(us[key], alpha=0.75, linewidth=2, label=key)\n",
    "        plt.plot(us[key], '.', color=plt.gca().lines[-1].get_color(), markersize=10)\n",
    "    plt.grid(color=c, linestyle='-.', linewidth=0.7)\n",
    "    plt.ylabel('action')\n",
    "    plt.xlabel('time')\n",
    "    plt.legend()\n",
    "    plt.ylim([-0.85, 0.15])\n",
    "    plt.show()\n",
    "\n",
    "make_plots(['lqr'])\n",
    "make_plots(['lqr', 'lqr-clip'])\n",
    "make_plots(['lqr', 'lqr-clip', 'mpc-10'])\n",
    "make_plots(['mpc-10', 'mpc-2'])"
   ]
  },
  {
   "cell_type": "code",
   "execution_count": null,
   "metadata": {
    "id": "ppHsa-L_sGWZ"
   },
   "outputs": [],
   "source": []
  },
  {
   "cell_type": "code",
   "execution_count": null,
   "metadata": {},
   "outputs": [],
   "source": []
  },
  {
   "cell_type": "code",
   "execution_count": null,
   "metadata": {},
   "outputs": [],
   "source": []
  },
  {
   "cell_type": "code",
   "execution_count": null,
   "metadata": {},
   "outputs": [],
   "source": []
  },
  {
   "cell_type": "code",
   "execution_count": null,
   "metadata": {},
   "outputs": [],
   "source": []
  }
 ],
 "metadata": {
  "colab": {
   "provenance": []
  },
  "kernelspec": {
   "display_name": "Python 3 (ipykernel)",
   "language": "python",
   "name": "python3"
  },
  "language_info": {
   "codemirror_mode": {
    "name": "ipython",
    "version": 3
   },
   "file_extension": ".py",
   "mimetype": "text/x-python",
   "name": "python",
   "nbconvert_exporter": "python",
   "pygments_lexer": "ipython3",
   "version": "3.11.7"
  }
 },
 "nbformat": 4,
 "nbformat_minor": 4
}
